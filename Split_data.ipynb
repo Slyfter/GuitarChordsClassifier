{
 "cells": [
  {
   "attachments": {},
   "cell_type": "markdown",
   "metadata": {},
   "source": [
    "## This Notebook is used to randomly split the data into 70% Train und 30% Test data and to save the test data in a separate folder."
   ]
  },
  {
   "cell_type": "code",
   "execution_count": 14,
   "metadata": {},
   "outputs": [],
   "source": [
    "import os\n",
    "import random\n",
    "import shutil\n",
    "\n",
    "source_folder = 'data/images/g minor'  # Replace with the path to the source folder\n",
    "destination_folder = 'data/test/g minor'  # Replace with the path to the destination folder\n",
    "percentage = 0.3  # Specify the desired percentage of images to move (30% in this example)\n",
    "\n",
    "# Get the list of image file names in the source folder\n",
    "image_files = [file for file in os.listdir(source_folder) if file.endswith('.jpg') or file.endswith('.png')]\n",
    "\n",
    "# Calculate the number of images to move\n",
    "num_images_to_move = int(len(image_files) * percentage)\n",
    "\n",
    "# Randomly select the images to move\n",
    "images_to_move = random.sample(image_files, num_images_to_move)\n",
    "\n",
    "# Move the selected images to the destination folder\n",
    "for image in images_to_move:\n",
    "    source_path = os.path.join(source_folder, image)\n",
    "    destination_path = os.path.join(destination_folder, image)\n",
    "    shutil.move(source_path, destination_path)\n"
   ]
  },
  {
   "cell_type": "code",
   "execution_count": null,
   "metadata": {},
   "outputs": [],
   "source": []
  }
 ],
 "metadata": {
  "kernelspec": {
   "display_name": "ML2Project",
   "language": "python",
   "name": "python3"
  },
  "language_info": {
   "codemirror_mode": {
    "name": "ipython",
    "version": 3
   },
   "file_extension": ".py",
   "mimetype": "text/x-python",
   "name": "python",
   "nbconvert_exporter": "python",
   "pygments_lexer": "ipython3",
   "version": "3.10.11"
  },
  "orig_nbformat": 4,
  "vscode": {
   "interpreter": {
    "hash": "7701969d6674564bee76e3418402dccc7bfd84153a6cde981996f00dd9db6766"
   }
  }
 },
 "nbformat": 4,
 "nbformat_minor": 2
}
